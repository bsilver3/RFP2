{
 "cells": [
  {
   "cell_type": "markdown",
   "metadata": {},
   "source": [
    "**NOTE: All of this file is just to export local files as smaller CSV files after wrangling in order to save GitHub space and avoid repository pushing issues.**"
   ]
  },
  {
   "cell_type": "code",
   "execution_count": 26,
   "metadata": {},
   "outputs": [],
   "source": [
    "import json\n",
    "import pandas as pd"
   ]
  },
  {
   "cell_type": "code",
   "execution_count": 27,
   "metadata": {},
   "outputs": [],
   "source": [
    "jsonPlaylists = json.load(open(\"JSON Files\\mpd.slice.0-999.json\"))\n",
    "jsonSongs = json.load(open(\"JSON Files\\songs_0-999.json\"))\n",
    "jsonArtists = json.load(open(\"JSON Files/artists_0-999.json\"))\n",
    "jsonAlbums = json.load(open(\"JSON Files/albums_0-999.json\"))\n",
    "jsonSpindt = json.load(open(\"JSON Files\\Vetting_Playlist.json\"))"
   ]
  },
  {
   "cell_type": "code",
   "execution_count": 28,
   "metadata": {},
   "outputs": [],
   "source": [
    "spindtArr = [[],[]]\n",
    "for i in jsonSpindt:\n",
    "    spindtArr[0].append(i)\n",
    "    spindtArr[1].append(jsonSpindt[i])"
   ]
  },
  {
   "cell_type": "code",
   "execution_count": 29,
   "metadata": {},
   "outputs": [],
   "source": [
    "spindt = pd.DataFrame(spindtArr)\n",
    "spindt.columns = spindt.iloc[0]\n",
    "spindt = spindt.drop(spindt.index[0])\n",
    "spindt = spindt.reset_index()\n",
    "spindt = spindt.drop(['index', 'images', 'id', 'external_urls', 'followers', 'type', 'uri', 'owner', 'description', 'primary_color', 'snapshot_id', 'href', 'collaborative', 'public'], axis=1)\n",
    "spindt.iloc[0, 0] = spindt.iloc[0, 0].lower()"
   ]
  },
  {
   "cell_type": "code",
   "execution_count": 30,
   "metadata": {},
   "outputs": [],
   "source": [
    "spindtItemsArr = []\n",
    "for i in spindt['tracks'][0]['items']:\n",
    "    spindtItemsArr.append(i)"
   ]
  },
  {
   "cell_type": "code",
   "execution_count": 31,
   "metadata": {},
   "outputs": [],
   "source": [
    "spindtTracksArr = []\n",
    "for i in range(len(spindtItemsArr)):\n",
    "    spindtTracksArr.append(spindtItemsArr[i]['track'])"
   ]
  },
  {
   "cell_type": "code",
   "execution_count": 32,
   "metadata": {},
   "outputs": [],
   "source": [
    "spindtTracks = pd.DataFrame(spindtTracksArr)"
   ]
  },
  {
   "cell_type": "code",
   "execution_count": 33,
   "metadata": {},
   "outputs": [],
   "source": [
    "spindtTracks = spindtTracks.drop(['disc_number', 'episode', 'external_ids', 'external_urls', 'href', 'is_local', 'preview_url', 'track', 'type', 'uri'], axis=1)"
   ]
  },
  {
   "cell_type": "code",
   "execution_count": 34,
   "metadata": {},
   "outputs": [],
   "source": [
    "playlists = pd.DataFrame(jsonPlaylists[\"playlists\"])\n",
    "songs = pd.DataFrame(jsonSongs)\n",
    "artists = pd.DataFrame(jsonArtists)\n",
    "albums = pd.DataFrame(jsonAlbums)"
   ]
  },
  {
   "cell_type": "code",
   "execution_count": 35,
   "metadata": {},
   "outputs": [],
   "source": [
    "songs = songs.T\n",
    "artists = artists.T\n",
    "albums = albums.T"
   ]
  },
  {
   "cell_type": "code",
   "execution_count": 36,
   "metadata": {},
   "outputs": [],
   "source": [
    "songs = songs.reset_index()\n",
    "songs = songs.drop(['index', 'disc_number', 'preview_url', 'type', 'external_urls', 'is_local'], axis=1)\n",
    "artists = artists.reset_index()\n",
    "artists = artists.drop(['index', 'external_urls', 'type', 'images'], axis=1)\n",
    "albums = albums.reset_index()\n",
    "albums = albums.dropna()\n",
    "albums = albums.reset_index()\n",
    "albums = albums.drop(['index', 'external_urls', 'external_ids', 'images', 'type', 'copyrights', 'level_0', 'genres'], axis=1)"
   ]
  },
  {
   "cell_type": "code",
   "execution_count": 37,
   "metadata": {},
   "outputs": [],
   "source": [
    "playlists = playlists.drop(['pid', 'collaborative', 'description', 'num_edits', 'num_followers', 'modified_at'], axis=1)"
   ]
  },
  {
   "cell_type": "code",
   "execution_count": 38,
   "metadata": {},
   "outputs": [],
   "source": [
    "names = []\n",
    "for name in playlists['name']:\n",
    "    names.append(name.lower())\n",
    "playlists['name'] = names"
   ]
  },
  {
   "cell_type": "code",
   "execution_count": 40,
   "metadata": {},
   "outputs": [],
   "source": [
    "tracks = pd.DataFrame(playlists['tracks'])"
   ]
  },
  {
   "cell_type": "code",
   "execution_count": 41,
   "metadata": {},
   "outputs": [],
   "source": [
    "newtracks = []\n",
    "\n",
    "for r,c in tracks.iterrows():\n",
    "    playlist = tracks.iloc[r,0]\n",
    "    for song in playlist:\n",
    "        newtracks.append(song)"
   ]
  },
  {
   "cell_type": "code",
   "execution_count": 42,
   "metadata": {},
   "outputs": [],
   "source": [
    "tracks = pd.DataFrame(newtracks)"
   ]
  },
  {
   "cell_type": "code",
   "execution_count": 43,
   "metadata": {},
   "outputs": [],
   "source": [
    "tracks = tracks.drop('pos', axis=1)"
   ]
  },
  {
   "cell_type": "code",
   "execution_count": 44,
   "metadata": {},
   "outputs": [],
   "source": [
    "tracks = tracks.drop_duplicates()"
   ]
  },
  {
   "cell_type": "code",
   "execution_count": 50,
   "metadata": {},
   "outputs": [],
   "source": [
    "spindtTracks.to_csv('JSON Files/Exported CSV Files/spindtTracks.csv')\n",
    "# albums.to_csv('JSON Files/Exported CSV Files/albums.csv') # Too large to push to GitHub, excluding for now\n",
    "songs.to_csv('JSON Files/Exported CSV Files/songs.csv')\n",
    "artists.to_csv('JSON Files/Exported CSV Files/artists.csv')\n",
    "# tracks.to_csv('JSON Files/Exported CSV Files/tracks.csv') # Extra dataset, not needed to export to push to GitHub for now"
   ]
  }
 ],
 "metadata": {
  "kernelspec": {
   "display_name": "base",
   "language": "python",
   "name": "python3"
  },
  "language_info": {
   "codemirror_mode": {
    "name": "ipython",
    "version": 3
   },
   "file_extension": ".py",
   "mimetype": "text/x-python",
   "name": "python",
   "nbconvert_exporter": "python",
   "pygments_lexer": "ipython3",
   "version": "3.9.13"
  }
 },
 "nbformat": 4,
 "nbformat_minor": 2
}
