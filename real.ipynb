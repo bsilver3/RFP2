{
 "cells": [
  {
   "cell_type": "code",
   "execution_count": 3,
   "id": "33990ecb",
   "metadata": {},
   "outputs": [
    {
     "name": "stdout",
     "output_type": "stream",
     "text": [
      "The 'songs' key does not exist in the playlist data.\n"
     ]
    }
   ],
   "source": [
    "import json\n",
    "import random\n",
    "\n",
    "# Load the playlist data from a JSON file\n",
    "with open('Vetting_Playlist.json', 'r') as f:\n",
    "    playlist_data = json.load(f)\n",
    "\n",
    "# Check if the 'songs' key exists in the loaded JSON data\n",
    "if 'songs' in playlist_data:\n",
    "    # Extract the current songs from the playlist\n",
    "    current_songs = playlist_data['songs']\n",
    "\n",
    "    # Define a function to recommend three songs based on the current playlist\n",
    "    def recommend_songs(current_songs, playlist_data):\n",
    "        recommended_songs = []\n",
    "        # Here, you would implement your recommendation logic\n",
    "        # For simplicity, let's randomly select three songs from the playlist\n",
    "        recommended_songs = random.sample(playlist_data['songs'], min(3, len(playlist_data['songs'])))\n",
    "        return recommended_songs\n",
    "\n",
    "    # Get the recommended songs\n",
    "    recommended_songs = recommend_songs(current_songs, playlist_data)\n",
    "\n",
    "    # Print the recommended songs\n",
    "    print(\"Recommended Songs:\")\n",
    "    for song in recommended_songs:\n",
    "        print(song['title'], '-', song['artist'])\n",
    "else:\n",
    "    print(\"The 'songs' key does not exist in the playlist data.\")\n",
    "\n",
    "\n"
   ]
  },
  {
   "cell_type": "code",
   "execution_count": null,
   "id": "59d71df8",
   "metadata": {},
   "outputs": [],
   "source": []
  }
 ],
 "metadata": {
  "kernelspec": {
   "display_name": "Python 3 (ipykernel)",
   "language": "python",
   "name": "python3"
  },
  "language_info": {
   "codemirror_mode": {
    "name": "ipython",
    "version": 3
   },
   "file_extension": ".py",
   "mimetype": "text/x-python",
   "name": "python",
   "nbconvert_exporter": "python",
   "pygments_lexer": "ipython3",
   "version": "3.9.13"
  }
 },
 "nbformat": 4,
 "nbformat_minor": 5
}
